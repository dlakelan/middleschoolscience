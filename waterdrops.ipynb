{
 "cells": [
  {
   "cell_type": "code",
   "execution_count": 1,
   "metadata": {},
   "outputs": [
    {
     "name": "stderr",
     "output_type": "stream",
     "text": [
      "\u001b[32m\u001b[1m    Updating\u001b[22m\u001b[39m registry at `/var/local/dlakelan/dotjulia/registries/General.toml`\n",
      "\u001b[32m\u001b[1m   Resolving\u001b[22m\u001b[39m package versions...\n",
      "\u001b[32m\u001b[1m   Installed\u001b[22m\u001b[39m WorkerUtilities ─ v1.6.1\n",
      "\u001b[32m\u001b[1m   Installed\u001b[22m\u001b[39m InlineStrings ─── v1.4.0\n",
      "\u001b[32m\u001b[1m   Installed\u001b[22m\u001b[39m DataFramesMeta ── v0.13.0\n",
      "\u001b[32m\u001b[1m   Installed\u001b[22m\u001b[39m CSV ───────────── v0.10.9\n",
      "\u001b[32m\u001b[1m    Updating\u001b[22m\u001b[39m `/var/local/dlakelan/dotjulia/environments/v1.8/Project.toml`\n",
      " \u001b[90m [336ed68f] \u001b[39m\u001b[92m+ CSV v0.10.9\u001b[39m\n",
      "\u001b[32m⌃\u001b[39m\u001b[90m [a93c6f00] \u001b[39m\u001b[92m+ DataFrames v1.3.6\u001b[39m\n",
      " \u001b[90m [1313f7d8] \u001b[39m\u001b[92m+ DataFramesMeta v0.13.0\u001b[39m\n",
      " \u001b[90m [38e38edf] \u001b[39m\u001b[92m+ GLM v1.8.1\u001b[39m\n",
      " \u001b[90m [2913bbd2] \u001b[39m\u001b[92m+ StatsBase v0.33.21\u001b[39m\n",
      "\u001b[32m\u001b[1m    Updating\u001b[22m\u001b[39m `/var/local/dlakelan/dotjulia/environments/v1.8/Manifest.toml`\n",
      " \u001b[90m [336ed68f] \u001b[39m\u001b[92m+ CSV v0.10.9\u001b[39m\n",
      " \u001b[90m [8be319e6] \u001b[39m\u001b[92m+ Chain v0.5.0\u001b[39m\n",
      " \u001b[90m [a8cc5b0e] \u001b[39m\u001b[92m+ Crayons v4.1.1\u001b[39m\n",
      "\u001b[32m⌃\u001b[39m\u001b[90m [a93c6f00] \u001b[39m\u001b[92m+ DataFrames v1.3.6\u001b[39m\n",
      " \u001b[90m [1313f7d8] \u001b[39m\u001b[92m+ DataFramesMeta v0.13.0\u001b[39m\n",
      " \u001b[90m [48062228] \u001b[39m\u001b[92m+ FilePathsBase v0.9.20\u001b[39m\n",
      " \u001b[90m [38e38edf] \u001b[39m\u001b[92m+ GLM v1.8.1\u001b[39m\n",
      " \u001b[90m [842dd82b] \u001b[39m\u001b[92m+ InlineStrings v1.4.0\u001b[39m\n",
      " \u001b[90m [41ab1584] \u001b[39m\u001b[92m+ InvertedIndices v1.2.0\u001b[39m\n",
      " \u001b[90m [2dfb63ee] \u001b[39m\u001b[92m+ PooledArrays v1.4.2\u001b[39m\n",
      "\u001b[33m⌅\u001b[39m\u001b[90m [08abe8d2] \u001b[39m\u001b[92m+ PrettyTables v1.3.1\u001b[39m\n",
      " \u001b[90m [1277b4bf] \u001b[39m\u001b[92m+ ShiftedArrays v2.0.0\u001b[39m\n",
      " \u001b[90m [3eaba693] \u001b[39m\u001b[92m+ StatsModels v0.6.33\u001b[39m\n",
      " \u001b[90m [ea10d353] \u001b[39m\u001b[92m+ WeakRefStrings v1.4.2\u001b[39m\n",
      " \u001b[90m [76eceee3] \u001b[39m\u001b[92m+ WorkerUtilities v1.6.1\u001b[39m\n",
      " \u001b[90m [7746bdde] \u001b[39m\u001b[93m↑ Glib_jll v2.74.0+1 ⇒ v2.74.0+2\u001b[39m\n",
      " \u001b[90m [94ce4f54] \u001b[39m\u001b[93m↑ Libiconv_jll v1.16.1+1 ⇒ v1.16.1+2\u001b[39m\n",
      " \u001b[90m [9fa8497b] \u001b[39m\u001b[92m+ Future\u001b[39m\n",
      "\u001b[36m\u001b[1m        Info\u001b[22m\u001b[39m Packages marked with \u001b[32m⌃\u001b[39m and \u001b[33m⌅\u001b[39m have new versions available, but those with \u001b[33m⌅\u001b[39m are restricted by compatibility constraints from upgrading. To see why use `status --outdated -m`\n",
      "\u001b[32m\u001b[1mPrecompiling\u001b[22m\u001b[39m project...\n",
      "\u001b[32m  ✓ \u001b[39m\u001b[90mWorkerUtilities\u001b[39m\n",
      "\u001b[32m  ✓ \u001b[39m\u001b[90mInlineStrings\u001b[39m\n",
      "\u001b[32m  ✓ \u001b[39m\u001b[90mWeakRefStrings\u001b[39m\n",
      "\u001b[32m  ✓ \u001b[39mCSV\n",
      "\u001b[32m  ✓ \u001b[39mDataFrames\n",
      "\u001b[32m  ✓ \u001b[39mDataFramesMeta\n",
      "  6 dependencies successfully precompiled in 30 seconds. 201 already precompiled.\n"
     ]
    }
   ],
   "source": [
    "using Pkg\n",
    "Pkg.instantiate()\n",
    "\n",
    "using CSV,DataFrames,DataFramesMeta, StatsPlots, StatsBase, GLM "
   ]
  },
  {
   "attachments": {},
   "cell_type": "markdown",
   "metadata": {},
   "source": [
    "\n",
    "# Investigating the physics of water droplets\n",
    "\n",
    "In this experiment we will determine what makes a water droplet dangle from the end of an eyedropper/pipette. Since gravity pulls the water downward, why doesn't it just fall out of the pipette? As we slowly squeeze the pipette bulb the droplet on the end gets bigger and bigger, eventually it falls off all at once in a \"chunk\" of water called a drop. \n",
    "\n",
    "We will drop 5 drops into a weighing boat on a sensitive scale. We will record the weight of each drop.\n",
    "\n",
    "Then, we will do the same for slightly salty water. And again for a more salty water. Then for cooking oil. Finally we will cut open the end of the pipette so it's wider and repeat for the pure water.\n",
    "\n",
    "## What you need:\n",
    "* Electronic scale 2kg max approximately\n",
    "* Small, sensitive scale 100g max approximately\n",
    "* Thin plastic weighing boats\n",
    "* Disposable plastic pipettes\n",
    "* Test tube for mixing ingredients, such as 50ml conical tube or similar\n",
    "* Water at room temperature\n",
    "* Table salt\n",
    "* Cooking oil\n",
    "* Ruler marked in cm and mm \n",
    "\n",
    "\n",
    "# Remember to record all measurements in your paper notebook using a pen before entering them into the computer worksheets"
   ]
  },
  {
   "attachments": {},
   "cell_type": "markdown",
   "metadata": {},
   "source": [
    "# Measuring Density of Water and other important preliminary things\n",
    "\n",
    "1) Place an empty conical tube with cap on the larger scale and press the \"tare\" button. it should read 0.0g\n",
    "\n",
    "2) Fill the conical tube to a fixed number of ml of water. Record the ml in your notebook and enter it below. Make sure to enter the decimal point even if the next digit is zero. Like **20.0** and then close the cap and weigh the tube, record and enter below with decimal place.\n",
    "\n",
    "3) Use the ruler to measure the outside diameter of the tip of the pipette in mm, record it in your notebook, and enter it below\n",
    "\n",
    "4) You will use a water solution, a salt solution called salt1 and a salt solution with more salt called salt2. When you read below how to make these, come back and enter the ml of water and grams of salt for each salt solution and enter them below.\n"
   ]
  },
  {
   "cell_type": "code",
   "execution_count": 2,
   "metadata": {},
   "outputs": [
    {
     "data": {
      "text/plain": [
       "1.0"
      ]
     },
     "execution_count": 2,
     "metadata": {},
     "output_type": "execute_result"
    }
   ],
   "source": [
    "mlwater = 40.0\n",
    "weightg = 40.0\n",
    "\n",
    "tipmm = 3.0\n",
    "\n",
    "densitywater = mlwater / weightg\n",
    "\n",
    "# enter the ml of water and the grams of salt for the salt1 and salt2 solutions\n",
    "\n",
    "salt1ml = 50.0\n",
    "salt1g = 0.255\n",
    "\n",
    "sal2ml = 51.0\n",
    "salt2g = 0.510\n"
   ]
  },
  {
   "attachments": {},
   "cell_type": "markdown",
   "metadata": {},
   "source": [
    "# Experimental procedure\n",
    "\n",
    "1) Remove everything from the sensitive scale, turn it on, and place a thin plastic weighing boat on the scale. Press the \"tare\" button and let the weight stabilize to 0.000g if it doesn't after a few seconds, press tare again and wait, repeat as necessary.\n",
    "2) Fill the dropper/pipette with about 1ml of water from the conical tube, shake off drops from the end into the tube.\n",
    "3) From about 1cm above the weighing boat, hold the pipette vertically, and slowly squeeze the bulb until a drop forms on the end, keep squeezing slowly until the drop gets big enough that it falls into the weighing boat. Record the water weight in your notebook.\n",
    "4) Press the \"tare\" button to re-zero the scale.\n",
    "5) Repeat the procedure until you have recorded 5 drops of water\n",
    "6) Make a new table in your notebook to record the values for the next fluid.\n"
   ]
  },
  {
   "attachments": {},
   "cell_type": "markdown",
   "metadata": {},
   "source": [
    "# Repeat the above experimental procedure with the following fluids:\n",
    "\n",
    "1) Pure water 50ml as above\n",
    "2) Pure water using a pipette with a tip cut to a wider opening (record diameter of opening in mm)\n",
    "3) Pure water 50ml with approximately 0.25 g of table salt (record exact volume and weights)\n",
    "4) Above mixture with wider opening tip\n",
    "4) Pure water 50ml with approximately 0.50 g of table salt (record exact volume and weights)\n",
    "5) Above mixture with wider opening tip\n",
    "5) Pure cooking oil\n",
    "6) Pure cooking oil with wider opening\n"
   ]
  },
  {
   "attachments": {},
   "cell_type": "markdown",
   "metadata": {},
   "source": [
    "# Entering Data into data/droplets.csv\n",
    "\n",
    "Enter the data into droplets.csv by separating the data with commas, for example droplet 1 and 2 should look something like this (with your own numbers)\n",
    "\n",
    "```\n",
    "dropnum,fluid,tipmm,dropg\n",
    "1,water,2.0,0.232\n",
    "2,water,2.0,0.241\n",
    "```\n",
    "\n",
    "Name the fluids \"water\", \"salt1\", \"salt2\", \"oil\"."
   ]
  },
  {
   "cell_type": "code",
   "execution_count": 3,
   "metadata": {},
   "outputs": [
    {
     "ename": "LoadError",
     "evalue": "UndefVarError: CSV not defined",
     "output_type": "error",
     "traceback": [
      "UndefVarError: CSV not defined",
      "",
      "Stacktrace:",
      " [1] top-level scope",
      "   @ In[3]:1",
      " [2] eval",
      "   @ ./boot.jl:368 [inlined]",
      " [3] include_string(mapexpr::typeof(REPL.softscope), mod::Module, code::String, filename::String)",
      "   @ Base ./loading.jl:1428"
     ]
    }
   ],
   "source": [
    "alldat = CSV.read(\"data/droplets.csv\",DataFrame) # read the data in the csv file into a DataFrame object\n"
   ]
  },
  {
   "attachments": {},
   "cell_type": "markdown",
   "metadata": {},
   "source": [
    "# Analyzing the data\n",
    "\n",
    "The fun part is, we don't really know what's going to happen. Usually in that case, it's good to just quickly plot the raw data and see what did happen. We will just plot the mass of the drops, and color the data points according to which fluid type they were. Remember that for some fluids there are two different tip diameters!\n",
    "\n",
    "We can also plot the size of the drop against tip diameter to see what happens when we increase the tip diameter... again with each fluid a different color"
   ]
  },
  {
   "cell_type": "code",
   "execution_count": null,
   "metadata": {},
   "outputs": [],
   "source": [
    "@df alldat display(scatter(:dropnum,:dropg; color = :fluid, title=\"Drop Mass\",xlab=\"Droplet number\",ylab=\"mass (g)\"))\n",
    "\n",
    "@df alldat display(scatter(:tipmm,:dropg; color = :fluid, title=\"Drop Mass vs Tip Diam\",xlab=\"Diam (mm)\", ylab=\"mass (g)\")\n",
    "\n"
   ]
  }
 ],
 "metadata": {
  "kernelspec": {
   "display_name": "Julia 1.8.2",
   "language": "julia",
   "name": "julia-1.8"
  },
  "language_info": {
   "file_extension": ".jl",
   "mimetype": "application/julia",
   "name": "julia",
   "version": "1.8.2"
  },
  "orig_nbformat": 4
 },
 "nbformat": 4,
 "nbformat_minor": 2
}
